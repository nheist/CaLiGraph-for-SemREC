{
 "cells": [
  {
   "cell_type": "markdown",
   "id": "foreign-amount",
   "metadata": {},
   "source": [
    "# Generation of dataset splits for SemREC'22\n",
    "\n",
    "In this notebook we generate training, validation, and test splits for the inferrable statements of the CaLiGraph subsets `clg_10e4` and `clg_10e5` as well as for the full dataset `clg_full`. The splits are sampled randomly and are divided 70%/10%/20% into training, validation, and test sets, respectively."
   ]
  },
  {
   "cell_type": "code",
   "execution_count": null,
   "id": "automated-management",
   "metadata": {
    "ExecuteTime": {
     "start_time": "2022-06-08T13:07:57.872Z"
    }
   },
   "outputs": [
    {
     "name": "stdout",
     "output_type": "stream",
     "text": [
      "Generating split files for clg_10e4..\n",
      "Superclass 59957 8565 17132\n",
      "Type 51578 7368 14738\n",
      "Relation 16269 2324 4649\n",
      "Generating split files for clg_10e5..\n",
      "Superclass 96274 13753 27508\n",
      "Type 29974 4282 8565\n",
      "Relation 138894 19842 39684\n",
      "Generating split files for clg_full..\n",
      "Superclass 8518816 1216973 2433949\n",
      "Type 97099450 13871350 27742700\n",
      "Relation 7281297 1040185 2080371\n"
     ]
    }
   ],
   "source": [
    "import requests\n",
    "import gzip\n",
    "import random\n",
    "\n",
    "\n",
    "random.seed(2022)\n",
    "\n",
    "DATASETS = [\n",
    "    ('clg_10e4', False),\n",
    "    ('clg_10e5', False),\n",
    "    ('clg_full', True),\n",
    "]\n",
    "\n",
    "SAMPLE_SIZE_TRAIN = .7\n",
    "SAMPLE_SIZE_VAL   = .1\n",
    "# TEST SET SIZE   = .2\n",
    "\n",
    "\n",
    "def split_dataset(dataset_id: str, is_gzipped: bool):\n",
    "    superclass_assertions = _load_lines_of_file(dataset_id, 'assertions-superclasses', is_gzipped)\n",
    "    type_assertions = _load_lines_of_file(dataset_id, 'assertions-transitive-types', is_gzipped)\n",
    "    relation_assertions = _load_lines_of_file(dataset_id, 'assertions-relations', is_gzipped)\n",
    "    _create_split_files(dataset_id, superclass_assertions, type_assertions, relation_assertions, is_gzipped)\n",
    "\n",
    "    \n",
    "def _load_lines_of_file(dataset_id: str, assertion_type: str, is_gzipped: bool) -> list:\n",
    "    url = f'http://data.dws.informatik.uni-mannheim.de/CaLiGraph/CaLiGraph-for-SemREC/{dataset_id}/{dataset_id}-{assertion_type}.nt'\n",
    "    content = gzip.decompress(requests.get(f'{url}.gz').content) if is_gzipped else requests.get(url).content\n",
    "    return content.decode('utf-8').split('\\n')\n",
    "\n",
    "\n",
    "def _create_split_files(dataset_id: str, superclass_assertions: list, type_assertions: list, relation_assertions: list, is_gzipped: bool):\n",
    "    superclass_train, superclass_val, superclass_test = _split_into_train_val_test(superclass_assertions)\n",
    "    print('Superclass', len(superclass_train), len(superclass_val), len(superclass_test))\n",
    "    type_train, type_val, type_test = _split_into_train_val_test(type_assertions)\n",
    "    print('Type', len(type_train), len(type_val), len(type_test))\n",
    "    relation_train, relation_val, relation_test = _split_into_train_val_test(relation_assertions)\n",
    "    print('Relation', len(relation_train), len(relation_val), len(relation_test))\n",
    "    \n",
    "    _write_file(superclass_train + type_train + relation_train, dataset_id, 'train', is_gzipped)\n",
    "    _write_file(superclass_val + type_val + relation_val, dataset_id, 'val', is_gzipped)\n",
    "    _write_file(superclass_test + type_test + relation_test, dataset_id, 'test', is_gzipped)\n",
    "\n",
    "    \n",
    "def _split_into_train_val_test(lines: list) -> tuple:\n",
    "    random.shuffle(lines)\n",
    "    train_end_idx = int(len(lines) * SAMPLE_SIZE_TRAIN)\n",
    "    val_end_idx = train_end_idx + int(len(lines) * SAMPLE_SIZE_VAL)\n",
    "    return lines[:train_end_idx], lines[train_end_idx:val_end_idx], lines[val_end_idx:]\n",
    "\n",
    "\n",
    "def _write_file(lines: list, dataset_id: str, file_type: str, is_gzipped):\n",
    "    filename = f'{dataset_id}-{file_type}.nt'\n",
    "    if is_gzipped:\n",
    "        filename += '.gz'\n",
    "        open_func = gzip.open\n",
    "        mode = 'wt'\n",
    "    else:\n",
    "        open_func = open\n",
    "        mode = 'w'\n",
    "    with open_func(filename, mode=mode) as f_out:\n",
    "        f_out.writelines(lines)\n",
    "\n",
    "\n",
    "for dataset_id, is_gzipped in DATASETS:\n",
    "    print(f'Generating split files for {dataset_id}..')\n",
    "    split_dataset(dataset_id, is_gzipped)"
   ]
  }
 ],
 "metadata": {
  "kernelspec": {
   "display_name": "Python 3",
   "language": "python",
   "name": "python3"
  },
  "language_info": {
   "codemirror_mode": {
    "name": "ipython",
    "version": 3
   },
   "file_extension": ".py",
   "mimetype": "text/x-python",
   "name": "python",
   "nbconvert_exporter": "python",
   "pygments_lexer": "ipython3",
   "version": "3.9.2"
  },
  "toc": {
   "base_numbering": 1,
   "nav_menu": {},
   "number_sections": true,
   "sideBar": true,
   "skip_h1_title": false,
   "title_cell": "Table of Contents",
   "title_sidebar": "Contents",
   "toc_cell": false,
   "toc_position": {},
   "toc_section_display": true,
   "toc_window_display": true
  }
 },
 "nbformat": 4,
 "nbformat_minor": 5
}
